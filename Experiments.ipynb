{
 "metadata": {
  "language_info": {
   "codemirror_mode": {
    "name": "ipython",
    "version": 3
   },
   "file_extension": ".py",
   "mimetype": "text/x-python",
   "name": "python",
   "nbconvert_exporter": "python",
   "pygments_lexer": "ipython3",
   "version": "3.8.3-final"
  },
  "orig_nbformat": 2,
  "kernelspec": {
   "name": "python38364bitd11d0bbfcc9343bf86e51fc58926f404",
   "display_name": "Python 3.8.3 64-bit"
  }
 },
 "nbformat": 4,
 "nbformat_minor": 2,
 "cells": [
  {
   "cell_type": "code",
   "execution_count": 1,
   "metadata": {},
   "outputs": [],
   "source": [
    "import pandas as pd\n",
    "import numpy as np\n",
    "\n",
    "from plmdata import Backend"
   ]
  },
  {
   "cell_type": "code",
   "execution_count": 2,
   "metadata": {},
   "outputs": [],
   "source": [
    "B = Backend(False)"
   ]
  },
  {
   "cell_type": "code",
   "execution_count": 18,
   "metadata": {},
   "outputs": [],
   "source": [
    "# Get data we want to use for training from the backend.\n",
    "\n",
    "df = B.get_normalized_alsfrs_series_random_users(200)"
   ]
  },
  {
   "cell_type": "code",
   "execution_count": 20,
   "metadata": {},
   "outputs": [
    {
     "output_type": "execute_result",
     "data": {
      "text/plain": "      user_id  report_date  score  min_date  days_since_first_report\n0        1914       722815     12    722815                        0\n1        1914       726516      4    722815                     3701\n2        1914       729212     47    722815                     6397\n3        1914       733287     14    722815                    10472\n4        1914       733321     14    722815                    10506\n...       ...          ...    ...       ...                      ...\n4010     1700       737335     42    737051                      284\n4011     1700       737352     42    737051                      301\n4012     1700       737385     40    737051                      334\n4013     1700       737454     38    737051                      403\n4014     1700       737486     42    737051                      435\n\n[4015 rows x 5 columns]",
      "text/html": "<div>\n<style scoped>\n    .dataframe tbody tr th:only-of-type {\n        vertical-align: middle;\n    }\n\n    .dataframe tbody tr th {\n        vertical-align: top;\n    }\n\n    .dataframe thead th {\n        text-align: right;\n    }\n</style>\n<table border=\"1\" class=\"dataframe\">\n  <thead>\n    <tr style=\"text-align: right;\">\n      <th></th>\n      <th>user_id</th>\n      <th>report_date</th>\n      <th>score</th>\n      <th>min_date</th>\n      <th>days_since_first_report</th>\n    </tr>\n  </thead>\n  <tbody>\n    <tr>\n      <th>0</th>\n      <td>1914</td>\n      <td>722815</td>\n      <td>12</td>\n      <td>722815</td>\n      <td>0</td>\n    </tr>\n    <tr>\n      <th>1</th>\n      <td>1914</td>\n      <td>726516</td>\n      <td>4</td>\n      <td>722815</td>\n      <td>3701</td>\n    </tr>\n    <tr>\n      <th>2</th>\n      <td>1914</td>\n      <td>729212</td>\n      <td>47</td>\n      <td>722815</td>\n      <td>6397</td>\n    </tr>\n    <tr>\n      <th>3</th>\n      <td>1914</td>\n      <td>733287</td>\n      <td>14</td>\n      <td>722815</td>\n      <td>10472</td>\n    </tr>\n    <tr>\n      <th>4</th>\n      <td>1914</td>\n      <td>733321</td>\n      <td>14</td>\n      <td>722815</td>\n      <td>10506</td>\n    </tr>\n    <tr>\n      <th>...</th>\n      <td>...</td>\n      <td>...</td>\n      <td>...</td>\n      <td>...</td>\n      <td>...</td>\n    </tr>\n    <tr>\n      <th>4010</th>\n      <td>1700</td>\n      <td>737335</td>\n      <td>42</td>\n      <td>737051</td>\n      <td>284</td>\n    </tr>\n    <tr>\n      <th>4011</th>\n      <td>1700</td>\n      <td>737352</td>\n      <td>42</td>\n      <td>737051</td>\n      <td>301</td>\n    </tr>\n    <tr>\n      <th>4012</th>\n      <td>1700</td>\n      <td>737385</td>\n      <td>40</td>\n      <td>737051</td>\n      <td>334</td>\n    </tr>\n    <tr>\n      <th>4013</th>\n      <td>1700</td>\n      <td>737454</td>\n      <td>38</td>\n      <td>737051</td>\n      <td>403</td>\n    </tr>\n    <tr>\n      <th>4014</th>\n      <td>1700</td>\n      <td>737486</td>\n      <td>42</td>\n      <td>737051</td>\n      <td>435</td>\n    </tr>\n  </tbody>\n</table>\n<p>4015 rows × 5 columns</p>\n</div>"
     },
     "metadata": {},
     "execution_count": 20
    }
   ],
   "source": [
    "# Take a look\n",
    "\n",
    "df"
   ]
  },
  {
   "cell_type": "code",
   "execution_count": 24,
   "metadata": {},
   "outputs": [
    {
     "output_type": "execute_result",
     "data": {
      "text/plain": "103"
     },
     "metadata": {},
     "execution_count": 24
    }
   ],
   "source": [
    "# How many users report a score less than 20?\n",
    "\n",
    "users_lt20 = df[df.score <= 20].user_id.unique()\n",
    "\n",
    "len(users_lt20)"
   ]
  },
  {
   "cell_type": "code",
   "execution_count": null,
   "metadata": {},
   "outputs": [],
   "source": []
  },
  {
   "cell_type": "code",
   "execution_count": 52,
   "metadata": {},
   "outputs": [],
   "source": [
    "# How many report a score less than 20 in their first five reports?\n",
    "# Our dataframe is already sorted by days since first report, so\n",
    "# .head() gets us what we need\n",
    "\n",
    "first_five_by_user = df.groupby(\"user_id\").head()"
   ]
  },
  {
   "cell_type": "code",
   "execution_count": 54,
   "metadata": {},
   "outputs": [
    {
     "output_type": "execute_result",
     "data": {
      "text/plain": "      user_id  report_date  score  min_date  days_since_first_report\n0        1914       722815     12    722815                        0\n1        1914       726516      4    722815                     3701\n2        1914       729212     47    722815                     6397\n3        1914       733287     14    722815                    10472\n4        1914       733321     14    722815                    10506\n...       ...          ...    ...       ...                      ...\n4004     1700       737051     46    737051                        0\n4005     1700       737124     41    737051                       73\n4006     1700       737158     39    737051                      107\n4007     1700       737212     41    737051                      161\n4008     1700       737241     42    737051                      190\n\n[895 rows x 5 columns]",
      "text/html": "<div>\n<style scoped>\n    .dataframe tbody tr th:only-of-type {\n        vertical-align: middle;\n    }\n\n    .dataframe tbody tr th {\n        vertical-align: top;\n    }\n\n    .dataframe thead th {\n        text-align: right;\n    }\n</style>\n<table border=\"1\" class=\"dataframe\">\n  <thead>\n    <tr style=\"text-align: right;\">\n      <th></th>\n      <th>user_id</th>\n      <th>report_date</th>\n      <th>score</th>\n      <th>min_date</th>\n      <th>days_since_first_report</th>\n    </tr>\n  </thead>\n  <tbody>\n    <tr>\n      <th>0</th>\n      <td>1914</td>\n      <td>722815</td>\n      <td>12</td>\n      <td>722815</td>\n      <td>0</td>\n    </tr>\n    <tr>\n      <th>1</th>\n      <td>1914</td>\n      <td>726516</td>\n      <td>4</td>\n      <td>722815</td>\n      <td>3701</td>\n    </tr>\n    <tr>\n      <th>2</th>\n      <td>1914</td>\n      <td>729212</td>\n      <td>47</td>\n      <td>722815</td>\n      <td>6397</td>\n    </tr>\n    <tr>\n      <th>3</th>\n      <td>1914</td>\n      <td>733287</td>\n      <td>14</td>\n      <td>722815</td>\n      <td>10472</td>\n    </tr>\n    <tr>\n      <th>4</th>\n      <td>1914</td>\n      <td>733321</td>\n      <td>14</td>\n      <td>722815</td>\n      <td>10506</td>\n    </tr>\n    <tr>\n      <th>...</th>\n      <td>...</td>\n      <td>...</td>\n      <td>...</td>\n      <td>...</td>\n      <td>...</td>\n    </tr>\n    <tr>\n      <th>4004</th>\n      <td>1700</td>\n      <td>737051</td>\n      <td>46</td>\n      <td>737051</td>\n      <td>0</td>\n    </tr>\n    <tr>\n      <th>4005</th>\n      <td>1700</td>\n      <td>737124</td>\n      <td>41</td>\n      <td>737051</td>\n      <td>73</td>\n    </tr>\n    <tr>\n      <th>4006</th>\n      <td>1700</td>\n      <td>737158</td>\n      <td>39</td>\n      <td>737051</td>\n      <td>107</td>\n    </tr>\n    <tr>\n      <th>4007</th>\n      <td>1700</td>\n      <td>737212</td>\n      <td>41</td>\n      <td>737051</td>\n      <td>161</td>\n    </tr>\n    <tr>\n      <th>4008</th>\n      <td>1700</td>\n      <td>737241</td>\n      <td>42</td>\n      <td>737051</td>\n      <td>190</td>\n    </tr>\n  </tbody>\n</table>\n<p>895 rows × 5 columns</p>\n</div>"
     },
     "metadata": {},
     "execution_count": 54
    }
   ],
   "source": [
    "first_five_by_user"
   ]
  },
  {
   "cell_type": "code",
   "execution_count": null,
   "metadata": {},
   "outputs": [],
   "source": [
    "# What on Earth is going on with user 1914? Use cell 118 in EDA.ipynb to\n",
    "# look at that user's data - they have a somewhat normal disease progression\n",
    "# starting in 2010 or so, but have stray reports in 1980, 1990, and 2000. Using \n",
    "# onset date instead of first report date # would fix this issue, but would also \n",
    "# throw out a lot of data."
   ]
  },
  {
   "cell_type": "code",
   "execution_count": 30,
   "metadata": {},
   "outputs": [
    {
     "output_type": "execute_result",
     "data": {
      "text/plain": "         report_date  score  min_date  days_since_first_report\nuser_id                                                       \n43            729975     20    729975                        0\n75            734746     40    734746                        0\n108           734985     24    734985                        0\n163           736073     20    736073                        0\n184           732609     33    732609                        0\n...              ...    ...       ...                      ...\n7233          734778     22    734778                        0\n7263          732585     24    732585                        0\n7326          729676     26    729676                        0\n7344          732096     20    732096                        0\n7423          735335     39    735335                        0\n\n[176 rows x 4 columns]",
      "text/html": "<div>\n<style scoped>\n    .dataframe tbody tr th:only-of-type {\n        vertical-align: middle;\n    }\n\n    .dataframe tbody tr th {\n        vertical-align: top;\n    }\n\n    .dataframe thead th {\n        text-align: right;\n    }\n</style>\n<table border=\"1\" class=\"dataframe\">\n  <thead>\n    <tr style=\"text-align: right;\">\n      <th></th>\n      <th>report_date</th>\n      <th>score</th>\n      <th>min_date</th>\n      <th>days_since_first_report</th>\n    </tr>\n    <tr>\n      <th>user_id</th>\n      <th></th>\n      <th></th>\n      <th></th>\n      <th></th>\n    </tr>\n  </thead>\n  <tbody>\n    <tr>\n      <th>43</th>\n      <td>729975</td>\n      <td>20</td>\n      <td>729975</td>\n      <td>0</td>\n    </tr>\n    <tr>\n      <th>75</th>\n      <td>734746</td>\n      <td>40</td>\n      <td>734746</td>\n      <td>0</td>\n    </tr>\n    <tr>\n      <th>108</th>\n      <td>734985</td>\n      <td>24</td>\n      <td>734985</td>\n      <td>0</td>\n    </tr>\n    <tr>\n      <th>163</th>\n      <td>736073</td>\n      <td>20</td>\n      <td>736073</td>\n      <td>0</td>\n    </tr>\n    <tr>\n      <th>184</th>\n      <td>732609</td>\n      <td>33</td>\n      <td>732609</td>\n      <td>0</td>\n    </tr>\n    <tr>\n      <th>...</th>\n      <td>...</td>\n      <td>...</td>\n      <td>...</td>\n      <td>...</td>\n    </tr>\n    <tr>\n      <th>7233</th>\n      <td>734778</td>\n      <td>22</td>\n      <td>734778</td>\n      <td>0</td>\n    </tr>\n    <tr>\n      <th>7263</th>\n      <td>732585</td>\n      <td>24</td>\n      <td>732585</td>\n      <td>0</td>\n    </tr>\n    <tr>\n      <th>7326</th>\n      <td>729676</td>\n      <td>26</td>\n      <td>729676</td>\n      <td>0</td>\n    </tr>\n    <tr>\n      <th>7344</th>\n      <td>732096</td>\n      <td>20</td>\n      <td>732096</td>\n      <td>0</td>\n    </tr>\n    <tr>\n      <th>7423</th>\n      <td>735335</td>\n      <td>39</td>\n      <td>735335</td>\n      <td>0</td>\n    </tr>\n  </tbody>\n</table>\n<p>176 rows × 4 columns</p>\n</div>"
     },
     "metadata": {},
     "execution_count": 30
    }
   ],
   "source": [
    "gt20"
   ]
  },
  {
   "cell_type": "code",
   "execution_count": null,
   "metadata": {},
   "outputs": [],
   "source": []
  }
 ]
}