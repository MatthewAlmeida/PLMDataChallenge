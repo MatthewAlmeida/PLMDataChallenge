{
 "metadata": {
  "language_info": {
   "codemirror_mode": {
    "name": "ipython",
    "version": 3
   },
   "file_extension": ".py",
   "mimetype": "text/x-python",
   "name": "python",
   "nbconvert_exporter": "python",
   "pygments_lexer": "ipython3",
   "version": "3.8.3-final"
  },
  "orig_nbformat": 2,
  "kernelspec": {
   "name": "python38364bitd11d0bbfcc9343bf86e51fc58926f404",
   "display_name": "Python 3.8.3 64-bit"
  }
 },
 "nbformat": 4,
 "nbformat_minor": 2,
 "cells": [
  {
   "cell_type": "code",
   "execution_count": 1,
   "metadata": {},
   "outputs": [],
   "source": [
    "import pandas as pd\n",
    "import numpy as np\n",
    "\n",
    "from plmdata import Backend"
   ]
  },
  {
   "cell_type": "code",
   "execution_count": 2,
   "metadata": {},
   "outputs": [],
   "source": [
    "B = Backend(False)"
   ]
  },
  {
   "cell_type": "code",
   "execution_count": 18,
   "metadata": {},
   "outputs": [],
   "source": [
    "# Get data we want to use for training from the backend.\n",
    "\n",
    "df = B.get_normalized_alsfrs_series_random_users(200)"
   ]
  },
  {
   "cell_type": "code",
   "execution_count": 20,
   "metadata": {},
   "outputs": [
    {
     "output_type": "execute_result",
     "data": {
      "text/plain": "      user_id  report_date  score  min_date  days_since_first_report\n0        1914       722815     12    722815                        0\n1        1914       726516      4    722815                     3701\n2        1914       729212     47    722815                     6397\n3        1914       733287     14    722815                    10472\n4        1914       733321     14    722815                    10506\n...       ...          ...    ...       ...                      ...\n4010     1700       737335     42    737051                      284\n4011     1700       737352     42    737051                      301\n4012     1700       737385     40    737051                      334\n4013     1700       737454     38    737051                      403\n4014     1700       737486     42    737051                      435\n\n[4015 rows x 5 columns]",
      "text/html": "<div>\n<style scoped>\n    .dataframe tbody tr th:only-of-type {\n        vertical-align: middle;\n    }\n\n    .dataframe tbody tr th {\n        vertical-align: top;\n    }\n\n    .dataframe thead th {\n        text-align: right;\n    }\n</style>\n<table border=\"1\" class=\"dataframe\">\n  <thead>\n    <tr style=\"text-align: right;\">\n      <th></th>\n      <th>user_id</th>\n      <th>report_date</th>\n      <th>score</th>\n      <th>min_date</th>\n      <th>days_since_first_report</th>\n    </tr>\n  </thead>\n  <tbody>\n    <tr>\n      <th>0</th>\n      <td>1914</td>\n      <td>722815</td>\n      <td>12</td>\n      <td>722815</td>\n      <td>0</td>\n    </tr>\n    <tr>\n      <th>1</th>\n      <td>1914</td>\n      <td>726516</td>\n      <td>4</td>\n      <td>722815</td>\n      <td>3701</td>\n    </tr>\n    <tr>\n      <th>2</th>\n      <td>1914</td>\n      <td>729212</td>\n      <td>47</td>\n      <td>722815</td>\n      <td>6397</td>\n    </tr>\n    <tr>\n      <th>3</th>\n      <td>1914</td>\n      <td>733287</td>\n      <td>14</td>\n      <td>722815</td>\n      <td>10472</td>\n    </tr>\n    <tr>\n      <th>4</th>\n      <td>1914</td>\n      <td>733321</td>\n      <td>14</td>\n      <td>722815</td>\n      <td>10506</td>\n    </tr>\n    <tr>\n      <th>...</th>\n      <td>...</td>\n      <td>...</td>\n      <td>...</td>\n      <td>...</td>\n      <td>...</td>\n    </tr>\n    <tr>\n      <th>4010</th>\n      <td>1700</td>\n      <td>737335</td>\n      <td>42</td>\n      <td>737051</td>\n      <td>284</td>\n    </tr>\n    <tr>\n      <th>4011</th>\n      <td>1700</td>\n      <td>737352</td>\n      <td>42</td>\n      <td>737051</td>\n      <td>301</td>\n    </tr>\n    <tr>\n      <th>4012</th>\n      <td>1700</td>\n      <td>737385</td>\n      <td>40</td>\n      <td>737051</td>\n      <td>334</td>\n    </tr>\n    <tr>\n      <th>4013</th>\n      <td>1700</td>\n      <td>737454</td>\n      <td>38</td>\n      <td>737051</td>\n      <td>403</td>\n    </tr>\n    <tr>\n      <th>4014</th>\n      <td>1700</td>\n      <td>737486</td>\n      <td>42</td>\n      <td>737051</td>\n      <td>435</td>\n    </tr>\n  </tbody>\n</table>\n<p>4015 rows × 5 columns</p>\n</div>"
     },
     "metadata": {},
     "execution_count": 20
    }
   ],
   "source": [
    "# Take a look\n",
    "\n",
    "df"
   ]
  },
  {
   "cell_type": "code",
   "execution_count": 24,
   "metadata": {},
   "outputs": [
    {
     "output_type": "execute_result",
     "data": {
      "text/plain": "103"
     },
     "metadata": {},
     "execution_count": 24
    }
   ],
   "source": [
    "# How many users report a score less than 20?\n",
    "\n",
    "users_lt20 = df[df.score <= 20].user_id.unique()\n",
    "\n",
    "len(users_lt20)"
   ]
  },
  {
   "cell_type": "code",
   "execution_count": null,
   "metadata": {},
   "outputs": [],
   "source": []
  },
  {
   "cell_type": "code",
   "execution_count": null,
   "metadata": {},
   "outputs": [],
   "source": [
    "# What on Earth is going on with user 1914? Use cell 118 in EDA.ipynb to\n",
    "# look at that user's data - they have a somewhat normal disease progression\n",
    "# starting in 2010 or so, but have stray reports in 1980, 1990, and 2000. Using \n",
    "# onset date instead of first report date # would fix this issue, but would also \n",
    "# throw out a lot of data."
   ]
  },
  {
   "cell_type": "code",
   "execution_count": 57,
   "metadata": {},
   "outputs": [],
   "source": [
    "# How many report a score less than 20 in their first five reports?\n",
    "# Our dataframe is already sorted by days since first report, so\n",
    "# .head() gets us what we need.\n",
    "\n",
    "# We're just going to remove these from the dataset. Under real\n",
    "# circumstances, it would be correct to examine these series \n",
    "# with the onset date and decide how to handle them to minimize\n",
    "# bias, but for the purpose of the challenge it's faster to just \n",
    "# remove them.\n",
    "\n",
    "first_five_by_user = df.groupby(\"user_id\").head()\n",
    "\n",
    "ff_lt20 = first_five_by_user[first_five_by_user.score < 20].user_id.unique()\n",
    "\n",
    "ff_lt20"
   ]
  },
  {
   "cell_type": "code",
   "execution_count": 59,
   "metadata": {},
   "outputs": [],
   "source": [
    "# Remove those users\n",
    "\n",
    "df = df[np.invert(np.isin(df.user_id, ff_lt20))]"
   ]
  },
  {
   "cell_type": "code",
   "execution_count": 63,
   "metadata": {},
   "outputs": [
    {
     "output_type": "execute_result",
     "data": {
      "text/plain": "      user_id  report_date  score  min_date  days_since_first_report\n140        43       729975     45    729975                        0\n141        43       730079     36    729975                      104\n142        43       730133     29    729975                      158\n143        43       730259     24    729975                      284\n144        43       730504     20    729975                      529\n...       ...          ...    ...       ...                      ...\n3847     4345       736809     35    736293                      516\n3848     4345       736861     33    736293                      568\n3849     4345       737072     29    736293                      779\n3850     4345       737128     29    736293                      835\n3851     4345       737554     19    736293                     1261\n\n[2056 rows x 5 columns]",
      "text/html": "<div>\n<style scoped>\n    .dataframe tbody tr th:only-of-type {\n        vertical-align: middle;\n    }\n\n    .dataframe tbody tr th {\n        vertical-align: top;\n    }\n\n    .dataframe thead th {\n        text-align: right;\n    }\n</style>\n<table border=\"1\" class=\"dataframe\">\n  <thead>\n    <tr style=\"text-align: right;\">\n      <th></th>\n      <th>user_id</th>\n      <th>report_date</th>\n      <th>score</th>\n      <th>min_date</th>\n      <th>days_since_first_report</th>\n    </tr>\n  </thead>\n  <tbody>\n    <tr>\n      <th>140</th>\n      <td>43</td>\n      <td>729975</td>\n      <td>45</td>\n      <td>729975</td>\n      <td>0</td>\n    </tr>\n    <tr>\n      <th>141</th>\n      <td>43</td>\n      <td>730079</td>\n      <td>36</td>\n      <td>729975</td>\n      <td>104</td>\n    </tr>\n    <tr>\n      <th>142</th>\n      <td>43</td>\n      <td>730133</td>\n      <td>29</td>\n      <td>729975</td>\n      <td>158</td>\n    </tr>\n    <tr>\n      <th>143</th>\n      <td>43</td>\n      <td>730259</td>\n      <td>24</td>\n      <td>729975</td>\n      <td>284</td>\n    </tr>\n    <tr>\n      <th>144</th>\n      <td>43</td>\n      <td>730504</td>\n      <td>20</td>\n      <td>729975</td>\n      <td>529</td>\n    </tr>\n    <tr>\n      <th>...</th>\n      <td>...</td>\n      <td>...</td>\n      <td>...</td>\n      <td>...</td>\n      <td>...</td>\n    </tr>\n    <tr>\n      <th>3847</th>\n      <td>4345</td>\n      <td>736809</td>\n      <td>35</td>\n      <td>736293</td>\n      <td>516</td>\n    </tr>\n    <tr>\n      <th>3848</th>\n      <td>4345</td>\n      <td>736861</td>\n      <td>33</td>\n      <td>736293</td>\n      <td>568</td>\n    </tr>\n    <tr>\n      <th>3849</th>\n      <td>4345</td>\n      <td>737072</td>\n      <td>29</td>\n      <td>736293</td>\n      <td>779</td>\n    </tr>\n    <tr>\n      <th>3850</th>\n      <td>4345</td>\n      <td>737128</td>\n      <td>29</td>\n      <td>736293</td>\n      <td>835</td>\n    </tr>\n    <tr>\n      <th>3851</th>\n      <td>4345</td>\n      <td>737554</td>\n      <td>19</td>\n      <td>736293</td>\n      <td>1261</td>\n    </tr>\n  </tbody>\n</table>\n<p>2056 rows × 5 columns</p>\n</div>"
     },
     "metadata": {},
     "execution_count": 63
    }
   ],
   "source": [
    "# trim to users than have scores of 20 or less, then take another look\n",
    "\n",
    "df = df[np.isin(df.user_id, users_lt20)]\n",
    "\n",
    "df"
   ]
  },
  {
   "cell_type": "markdown",
   "metadata": {},
   "source": [
    "### Calculate targets\n",
    "\n",
    "To calculate targets, we need to have either the number of days after day 0 that the user scored 20 or we need to do a linear interpolation between the user's last report score that was over 20 and the first one that was under 20. "
   ]
  },
  {
   "cell_type": "code",
   "execution_count": 65,
   "metadata": {},
   "outputs": [
    {
     "output_type": "execute_result",
     "data": {
      "text/plain": "user_id\n43      13\n108     18\n193     15\n217     19\n288     16\n        ..\n6813    17\n7150    16\n7233     9\n7263    19\n7344    18\nName: score, Length: 88, dtype: int64"
     },
     "metadata": {},
     "execution_count": 65
    }
   ],
   "source": [
    "# Get each user's max score under 20\n",
    "\n",
    "max_u20 = df[df.score<20].groupby(\"user_id\")[\"score\"].max()\n",
    "\n",
    "max_u20"
   ]
  },
  {
   "cell_type": "code",
   "execution_count": 67,
   "metadata": {},
   "outputs": [
    {
     "output_type": "execute_result",
     "data": {
      "text/plain": "user_id\n43      24\n108     24\n163     21\n193     30\n217     21\n        ..\n6813    24\n7150    21\n7233    22\n7263    24\n7344    21\nName: score, Length: 92, dtype: int64"
     },
     "metadata": {},
     "execution_count": 67
    }
   ],
   "source": [
    "# get each user's min score over 20\n",
    "\n",
    "min_o20 = df[df.score>20].groupby(\"user_id\")[\"score\"].min()\n",
    "\n",
    "min_o20"
   ]
  },
  {
   "cell_type": "code",
   "execution_count": 71,
   "metadata": {},
   "outputs": [
    {
     "output_type": "execute_result",
     "data": {
      "text/plain": "34"
     },
     "metadata": {},
     "execution_count": 71
    }
   ],
   "source": [
    "# Get the number of users with score exactly 20. we don't need to calculate targets for them.\n",
    "\n",
    "users_exactly20 = df[df.score == 20].user_id.unique()\n",
    "\n",
    "len(df[df.score == 20].user_id.unique())"
   ]
  },
  {
   "cell_type": "code",
   "execution_count": 91,
   "metadata": {},
   "outputs": [
    {
     "output_type": "execute_result",
     "data": {
      "text/plain": "user_id\n43      1\n163     1\n217     1\n304     1\n525     2\n890     1\n985     1\n1097    1\n1171    1\n1361    1\n2281    1\n2856    5\n2917    4\n3806    2\n3858    2\n3893    2\n4236    1\n4237    1\n4417    1\n4707    1\n4941    1\n4952    1\n4956    1\n5009    3\n5081    2\n5589    2\n5594    2\n5636    1\n5820    2\n6176    1\n6272    1\n6492    1\n6813    1\n7344    2\nName: score, dtype: int64"
     },
     "metadata": {},
     "execution_count": 91
    }
   ],
   "source": [
    "# Several users have several instances of scores of 20. We'll just take the first of each as a target; we want our model to predict when \n",
    "# each user will fall below a functionality score of 20.\n",
    "\n",
    "df[df.score == 20].groupby(\"user_id\")[\"score\"].count()"
   ]
  },
  {
   "cell_type": "code",
   "execution_count": null,
   "metadata": {},
   "outputs": [],
   "source": [
    "df"
   ]
  },
  {
   "cell_type": "markdown",
   "metadata": {},
   "source": [
    "### Build training data"
   ]
  },
  {
   "cell_type": "code",
   "execution_count": 81,
   "metadata": {},
   "outputs": [
    {
     "output_type": "execute_result",
     "data": {
      "text/plain": "92"
     },
     "metadata": {},
     "execution_count": 81
    }
   ],
   "source": [
    "dfnpy = df.groupby(\"user_id\").head().to_numpy()[:,[0,2,4]]\n",
    "\n",
    "u,c = np.unique(dfnpy[:,0], return_counts=True)\n",
    "\n",
    "len(u)"
   ]
  },
  {
   "cell_type": "code",
   "execution_count": 84,
   "metadata": {},
   "outputs": [],
   "source": [
    "# Training data for model\n",
    "\n",
    "X = dfnpy[:,1:].reshape((92, 5, 2))"
   ]
  },
  {
   "cell_type": "code",
   "execution_count": 86,
   "metadata": {},
   "outputs": [
    {
     "output_type": "execute_result",
     "data": {
      "text/plain": "array([[[  45,    0],\n        [  36,  104],\n        [  29,  158],\n        [  24,  284],\n        [  20,  529]],\n\n       [[  48,    0],\n        [  48, 1517],\n        [  48, 1673],\n        [  48, 1884],\n        [  46, 2037]],\n\n       [[  48,    0],\n        [  48,  365],\n        [  48,  730],\n        [  42, 1492],\n        [  36, 1857]],\n\n       [[  41,    0],\n        [  35, 1150],\n        [  25, 2442],\n        [  31, 3925],\n        [  30, 3981]],\n\n       [[  47,    0],\n        [  47,  761],\n        [  44, 1796],\n        [  37, 2224],\n        [  35, 2283]]])"
     },
     "metadata": {},
     "execution_count": 86
    }
   ],
   "source": [
    "X[0:5]"
   ]
  },
  {
   "cell_type": "code",
   "execution_count": null,
   "metadata": {},
   "outputs": [],
   "source": []
  }
 ]
}